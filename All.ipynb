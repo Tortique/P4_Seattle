{
 "cells": [
  {
   "cell_type": "code",
   "id": "initial_id",
   "metadata": {
    "collapsed": true,
    "ExecuteTime": {
     "end_time": "2024-10-23T10:01:15.142843Z",
     "start_time": "2024-10-23T09:59:09.704660Z"
    }
   },
   "source": [
    "import papermill as pm\n",
    "\n",
    "notebooks = [\n",
    "    'explo.ipynb',\n",
    "    'model.ipynb',\n",
    "    'model_2.ipynb'\n",
    "]\n",
    "\n",
    "for nb in notebooks:\n",
    "    pm.execute_notebook(nb, f'output_{nb}')"
   ],
   "outputs": [
    {
     "data": {
      "text/plain": [
       "Executing:   0%|          | 0/26 [00:00<?, ?cell/s]"
      ],
      "application/vnd.jupyter.widget-view+json": {
       "version_major": 2,
       "version_minor": 0,
       "model_id": "f294b328dc2e4c9ebaeec2278b576c2b"
      }
     },
     "metadata": {},
     "output_type": "display_data"
    },
    {
     "data": {
      "text/plain": [
       "Executing:   0%|          | 0/20 [00:00<?, ?cell/s]"
      ],
      "application/vnd.jupyter.widget-view+json": {
       "version_major": 2,
       "version_minor": 0,
       "model_id": "6909eb810df940068c9d36d5b067254d"
      }
     },
     "metadata": {},
     "output_type": "display_data"
    },
    {
     "data": {
      "text/plain": [
       "Executing:   0%|          | 0/20 [00:00<?, ?cell/s]"
      ],
      "application/vnd.jupyter.widget-view+json": {
       "version_major": 2,
       "version_minor": 0,
       "model_id": "838fa7b842804a6c9cea69b388a88734"
      }
     },
     "metadata": {},
     "output_type": "display_data"
    }
   ],
   "execution_count": 2
  },
  {
   "metadata": {},
   "cell_type": "code",
   "outputs": [],
   "execution_count": null,
   "source": "",
   "id": "535688f292733fb8"
  }
 ],
 "metadata": {
  "kernelspec": {
   "display_name": "Python 3",
   "language": "python",
   "name": "python3"
  },
  "language_info": {
   "codemirror_mode": {
    "name": "ipython",
    "version": 2
   },
   "file_extension": ".py",
   "mimetype": "text/x-python",
   "name": "python",
   "nbconvert_exporter": "python",
   "pygments_lexer": "ipython2",
   "version": "2.7.6"
  }
 },
 "nbformat": 4,
 "nbformat_minor": 5
}

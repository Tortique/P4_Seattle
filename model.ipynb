{
 "cells": [
  {
   "cell_type": "code",
   "execution_count": 3,
   "id": "initial_id",
   "metadata": {
    "collapsed": true,
    "ExecuteTime": {
     "end_time": "2024-09-30T09:55:21.964691Z",
     "start_time": "2024-09-30T09:55:21.951431Z"
    }
   },
   "outputs": [],
   "source": [
    "import pandas as pd\n",
    "\n",
    "data = pd.read_pickle(\"dataframe.pkl\")"
   ]
  },
  {
   "cell_type": "code",
   "outputs": [
    {
     "data": {
      "text/plain": "        BuildingType          PrimaryPropertyType  CouncilDistrictCode  \\\n0     NonResidential                        Hotel                    7   \n1     NonResidential                        Hotel                    7   \n2     NonResidential                        Hotel                    7   \n3     NonResidential                        Hotel                    7   \n4     NonResidential                        Hotel                    7   \n...              ...                          ...                  ...   \n3338  NonResidential                    Warehouse                    2   \n3339  NonResidential  Small- and Mid-Sized Office                    2   \n3340  NonResidential                        Other                    4   \n3347  NonResidential                  K-12 School                    3   \n3356  NonResidential           Mixed Use Property                    7   \n\n          Neighborhood  NumberofBuildings  NumberofFloors  PropertyGFATotal  \\\n0             DOWNTOWN                1.0              12             88434   \n1             DOWNTOWN                1.0              11            103566   \n2             DOWNTOWN                1.0              41            956110   \n3             DOWNTOWN                1.0              10             61320   \n4             DOWNTOWN                1.0              18            175580   \n...                ...                ...             ...               ...   \n3338  GREATER DUWAMISH                1.0               1             52085   \n3339  GREATER DUWAMISH                1.0               2             24990   \n3340         NORTHEAST                1.0               1             72000   \n3347  GREATER DUWAMISH                1.0               3             45000   \n3356        LAKE UNION                1.0               6            345290   \n\n      PropertyGFAParking  PropertyGFABuilding(s)  \\\n0                      0                   88434   \n1                  15064                   88502   \n2                 196718                  759392   \n3                      0                   61320   \n4                  62000                  113580   \n...                  ...                     ...   \n3338                4222                   47863   \n3339                   0                   24990   \n3340                   0                   72000   \n3347                   0                   45000   \n3356               85028                  260262   \n\n                              ListOfAllPropertyUseTypes  \\\n0                                                 Hotel   \n1                            Hotel, Parking, Restaurant   \n2                                                 Hotel   \n3                                                 Hotel   \n4                         Hotel, Parking, Swimming Pool   \n...                                                 ...   \n3338                         Non-Refrigerated Warehouse   \n3339                                             Office   \n3340                                 Other - Recreation   \n3347                               K-12 School, Parking   \n3356  Data Center, Laboratory, Museum, Office, Other...   \n\n          LargestPropertyUseType  LargestPropertyUseTypeGFA  \\\n0                          Hotel                    88434.0   \n1                          Hotel                    83880.0   \n2                          Hotel                   756493.0   \n3                          Hotel                    61320.0   \n4                          Hotel                   123445.0   \n...                          ...                        ...   \n3338  Non-Refrigerated Warehouse                    52085.0   \n3339                      Office                    24990.0   \n3340          Other - Recreation                    72000.0   \n3347                 K-12 School                    45728.0   \n3356                  Laboratory                   151523.0   \n\n      SiteEnergyUse(kBtu) ComplianceStatus  TotalGHGEmissions  age  \\\n0              7226362.50        Compliant             249.98   97   \n1              8387933.00        Compliant             295.86   28   \n2             72587024.00        Compliant            2089.28   55   \n3              6794584.00        Compliant             286.43   98   \n4             14172606.00        Compliant             505.01   44   \n...                   ...              ...                ...  ...   \n3338           3605855.50        Compliant             157.70   69   \n3339           4420650.50        Compliant             134.80   95   \n3340           2925780.00        Compliant              67.65   11   \n3347           1325972.75        Compliant               9.24    9   \n3356          39364116.00        Compliant            1000.06    9   \n\n      useElectricity  useSteam  useGas  \n0                  1         1       1  \n1                  1         0       1  \n2                  1         1       1  \n3                  1         1       1  \n4                  1         0       1  \n...              ...       ...     ...  \n3338               1         0       1  \n3339               1         0       1  \n3340               1         0       1  \n3347               1         0       0  \n3356               1         0       1  \n\n[1452 rows x 19 columns]",
      "text/html": "<div>\n<style scoped>\n    .dataframe tbody tr th:only-of-type {\n        vertical-align: middle;\n    }\n\n    .dataframe tbody tr th {\n        vertical-align: top;\n    }\n\n    .dataframe thead th {\n        text-align: right;\n    }\n</style>\n<table border=\"1\" class=\"dataframe\">\n  <thead>\n    <tr style=\"text-align: right;\">\n      <th></th>\n      <th>BuildingType</th>\n      <th>PrimaryPropertyType</th>\n      <th>CouncilDistrictCode</th>\n      <th>Neighborhood</th>\n      <th>NumberofBuildings</th>\n      <th>NumberofFloors</th>\n      <th>PropertyGFATotal</th>\n      <th>PropertyGFAParking</th>\n      <th>PropertyGFABuilding(s)</th>\n      <th>ListOfAllPropertyUseTypes</th>\n      <th>LargestPropertyUseType</th>\n      <th>LargestPropertyUseTypeGFA</th>\n      <th>SiteEnergyUse(kBtu)</th>\n      <th>ComplianceStatus</th>\n      <th>TotalGHGEmissions</th>\n      <th>age</th>\n      <th>useElectricity</th>\n      <th>useSteam</th>\n      <th>useGas</th>\n    </tr>\n  </thead>\n  <tbody>\n    <tr>\n      <th>0</th>\n      <td>NonResidential</td>\n      <td>Hotel</td>\n      <td>7</td>\n      <td>DOWNTOWN</td>\n      <td>1.0</td>\n      <td>12</td>\n      <td>88434</td>\n      <td>0</td>\n      <td>88434</td>\n      <td>Hotel</td>\n      <td>Hotel</td>\n      <td>88434.0</td>\n      <td>7226362.50</td>\n      <td>Compliant</td>\n      <td>249.98</td>\n      <td>97</td>\n      <td>1</td>\n      <td>1</td>\n      <td>1</td>\n    </tr>\n    <tr>\n      <th>1</th>\n      <td>NonResidential</td>\n      <td>Hotel</td>\n      <td>7</td>\n      <td>DOWNTOWN</td>\n      <td>1.0</td>\n      <td>11</td>\n      <td>103566</td>\n      <td>15064</td>\n      <td>88502</td>\n      <td>Hotel, Parking, Restaurant</td>\n      <td>Hotel</td>\n      <td>83880.0</td>\n      <td>8387933.00</td>\n      <td>Compliant</td>\n      <td>295.86</td>\n      <td>28</td>\n      <td>1</td>\n      <td>0</td>\n      <td>1</td>\n    </tr>\n    <tr>\n      <th>2</th>\n      <td>NonResidential</td>\n      <td>Hotel</td>\n      <td>7</td>\n      <td>DOWNTOWN</td>\n      <td>1.0</td>\n      <td>41</td>\n      <td>956110</td>\n      <td>196718</td>\n      <td>759392</td>\n      <td>Hotel</td>\n      <td>Hotel</td>\n      <td>756493.0</td>\n      <td>72587024.00</td>\n      <td>Compliant</td>\n      <td>2089.28</td>\n      <td>55</td>\n      <td>1</td>\n      <td>1</td>\n      <td>1</td>\n    </tr>\n    <tr>\n      <th>3</th>\n      <td>NonResidential</td>\n      <td>Hotel</td>\n      <td>7</td>\n      <td>DOWNTOWN</td>\n      <td>1.0</td>\n      <td>10</td>\n      <td>61320</td>\n      <td>0</td>\n      <td>61320</td>\n      <td>Hotel</td>\n      <td>Hotel</td>\n      <td>61320.0</td>\n      <td>6794584.00</td>\n      <td>Compliant</td>\n      <td>286.43</td>\n      <td>98</td>\n      <td>1</td>\n      <td>1</td>\n      <td>1</td>\n    </tr>\n    <tr>\n      <th>4</th>\n      <td>NonResidential</td>\n      <td>Hotel</td>\n      <td>7</td>\n      <td>DOWNTOWN</td>\n      <td>1.0</td>\n      <td>18</td>\n      <td>175580</td>\n      <td>62000</td>\n      <td>113580</td>\n      <td>Hotel, Parking, Swimming Pool</td>\n      <td>Hotel</td>\n      <td>123445.0</td>\n      <td>14172606.00</td>\n      <td>Compliant</td>\n      <td>505.01</td>\n      <td>44</td>\n      <td>1</td>\n      <td>0</td>\n      <td>1</td>\n    </tr>\n    <tr>\n      <th>...</th>\n      <td>...</td>\n      <td>...</td>\n      <td>...</td>\n      <td>...</td>\n      <td>...</td>\n      <td>...</td>\n      <td>...</td>\n      <td>...</td>\n      <td>...</td>\n      <td>...</td>\n      <td>...</td>\n      <td>...</td>\n      <td>...</td>\n      <td>...</td>\n      <td>...</td>\n      <td>...</td>\n      <td>...</td>\n      <td>...</td>\n      <td>...</td>\n    </tr>\n    <tr>\n      <th>3338</th>\n      <td>NonResidential</td>\n      <td>Warehouse</td>\n      <td>2</td>\n      <td>GREATER DUWAMISH</td>\n      <td>1.0</td>\n      <td>1</td>\n      <td>52085</td>\n      <td>4222</td>\n      <td>47863</td>\n      <td>Non-Refrigerated Warehouse</td>\n      <td>Non-Refrigerated Warehouse</td>\n      <td>52085.0</td>\n      <td>3605855.50</td>\n      <td>Compliant</td>\n      <td>157.70</td>\n      <td>69</td>\n      <td>1</td>\n      <td>0</td>\n      <td>1</td>\n    </tr>\n    <tr>\n      <th>3339</th>\n      <td>NonResidential</td>\n      <td>Small- and Mid-Sized Office</td>\n      <td>2</td>\n      <td>GREATER DUWAMISH</td>\n      <td>1.0</td>\n      <td>2</td>\n      <td>24990</td>\n      <td>0</td>\n      <td>24990</td>\n      <td>Office</td>\n      <td>Office</td>\n      <td>24990.0</td>\n      <td>4420650.50</td>\n      <td>Compliant</td>\n      <td>134.80</td>\n      <td>95</td>\n      <td>1</td>\n      <td>0</td>\n      <td>1</td>\n    </tr>\n    <tr>\n      <th>3340</th>\n      <td>NonResidential</td>\n      <td>Other</td>\n      <td>4</td>\n      <td>NORTHEAST</td>\n      <td>1.0</td>\n      <td>1</td>\n      <td>72000</td>\n      <td>0</td>\n      <td>72000</td>\n      <td>Other - Recreation</td>\n      <td>Other - Recreation</td>\n      <td>72000.0</td>\n      <td>2925780.00</td>\n      <td>Compliant</td>\n      <td>67.65</td>\n      <td>11</td>\n      <td>1</td>\n      <td>0</td>\n      <td>1</td>\n    </tr>\n    <tr>\n      <th>3347</th>\n      <td>NonResidential</td>\n      <td>K-12 School</td>\n      <td>3</td>\n      <td>GREATER DUWAMISH</td>\n      <td>1.0</td>\n      <td>3</td>\n      <td>45000</td>\n      <td>0</td>\n      <td>45000</td>\n      <td>K-12 School, Parking</td>\n      <td>K-12 School</td>\n      <td>45728.0</td>\n      <td>1325972.75</td>\n      <td>Compliant</td>\n      <td>9.24</td>\n      <td>9</td>\n      <td>1</td>\n      <td>0</td>\n      <td>0</td>\n    </tr>\n    <tr>\n      <th>3356</th>\n      <td>NonResidential</td>\n      <td>Mixed Use Property</td>\n      <td>7</td>\n      <td>LAKE UNION</td>\n      <td>1.0</td>\n      <td>6</td>\n      <td>345290</td>\n      <td>85028</td>\n      <td>260262</td>\n      <td>Data Center, Laboratory, Museum, Office, Other...</td>\n      <td>Laboratory</td>\n      <td>151523.0</td>\n      <td>39364116.00</td>\n      <td>Compliant</td>\n      <td>1000.06</td>\n      <td>9</td>\n      <td>1</td>\n      <td>0</td>\n      <td>1</td>\n    </tr>\n  </tbody>\n</table>\n<p>1452 rows × 19 columns</p>\n</div>"
     },
     "execution_count": 4,
     "metadata": {},
     "output_type": "execute_result"
    }
   ],
   "source": [
    "data"
   ],
   "metadata": {
    "collapsed": false,
    "ExecuteTime": {
     "end_time": "2024-09-30T09:55:22.644080Z",
     "start_time": "2024-09-30T09:55:22.601751Z"
    }
   },
   "id": "5603edfaa51fff6a",
   "execution_count": 4
  },
  {
   "cell_type": "code",
   "outputs": [],
   "source": [],
   "metadata": {
    "collapsed": false
   },
   "id": "34885f2c6b2ac13b"
  }
 ],
 "metadata": {
  "kernelspec": {
   "display_name": "Python 3",
   "language": "python",
   "name": "python3"
  },
  "language_info": {
   "codemirror_mode": {
    "name": "ipython",
    "version": 2
   },
   "file_extension": ".py",
   "mimetype": "text/x-python",
   "name": "python",
   "nbconvert_exporter": "python",
   "pygments_lexer": "ipython2",
   "version": "2.7.6"
  }
 },
 "nbformat": 4,
 "nbformat_minor": 5
}
